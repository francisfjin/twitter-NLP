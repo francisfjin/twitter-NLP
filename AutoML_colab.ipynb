{
  "nbformat": 4,
  "nbformat_minor": 0,
  "metadata": {
    "colab": {
      "name": "AutoML_colab.ipynb",
      "provenance": []
    },
    "kernelspec": {
      "name": "python3",
      "display_name": "Python 3"
    }
  },
  "cells": [
    {
      "cell_type": "code",
      "metadata": {
        "id": "4q0jQ2-Tqzhc"
      },
      "source": [
        "#pip install google-cloud-automl"
      ],
      "execution_count": null,
      "outputs": []
    },
    {
      "cell_type": "code",
      "metadata": {
        "id": "q4upOFaBqJQs"
      },
      "source": [
        "from google.cloud import automl"
      ],
      "execution_count": null,
      "outputs": []
    },
    {
      "cell_type": "code",
      "metadata": {
        "id": "mn63szzAtdfu",
        "outputId": "34079a2f-af9c-4412-b7bd-cdfeba30c7c7",
        "colab": {
          "base_uri": "https://localhost:8080/",
          "height": 34
        }
      },
      "source": [
        "from google.colab import drive\n",
        "drive.mount('/content/gdrive', force_remount=True)"
      ],
      "execution_count": null,
      "outputs": [
        {
          "output_type": "stream",
          "text": [
            "Mounted at /content/gdrive\n"
          ],
          "name": "stdout"
        }
      ]
    },
    {
      "cell_type": "code",
      "metadata": {
        "id": "PyQFhYXeAjj3"
      },
      "source": [
        "import os\n",
        "os.environ[\"GOOGLE_APPLICATION_CREDENTIALS\"]=\"/content/gdrive/My Drive/Colab Notebooks/portfolio/twitter/googleautomlcredentials.json\""
      ],
      "execution_count": null,
      "outputs": []
    },
    {
      "cell_type": "code",
      "metadata": {
        "id": "lef1Hd1NqLGp",
        "outputId": "9cc273a3-8b80-4593-b11e-3a4679fcee2c",
        "colab": {
          "base_uri": "https://localhost:8080/",
          "height": 52
        }
      },
      "source": [
        "# TODO(developer): Uncomment and set the following variables\n",
        "project_id = \"twitter-project-new\"\n",
        "model_id = \"TST2550957136393797632\"\n",
        "input_uri = \"gs://crabsinabucket/tweetlist1.csv\"\n",
        "output_uri = \"gs://crabsinabucket/results.csv\"\n",
        "\n",
        "prediction_client = automl.PredictionServiceClient()\n",
        "\n",
        "# Get the full path of the model.\n",
        "model_full_id = f\"projects/{project_id}/locations/us-central1/models/{model_id}\"\n",
        "\n",
        "gcs_source = automl.GcsSource(input_uris=[input_uri])\n",
        "\n",
        "input_config = automl.BatchPredictInputConfig(gcs_source=gcs_source)\n",
        "gcs_destination = automl.GcsDestination(output_uri_prefix=output_uri)\n",
        "output_config = automl.BatchPredictOutputConfig(\n",
        "    gcs_destination=gcs_destination\n",
        ")\n",
        "\n",
        "response = prediction_client.batch_predict(\n",
        "    name=model_full_id,\n",
        "    input_config=input_config,\n",
        "    output_config=output_config\n",
        ")\n",
        "\n",
        "print(\"Waiting for operation to complete...\")\n",
        "print(f\"Batch Prediction results saved to Cloud Storage bucket. {response.result()}\")\n"
      ],
      "execution_count": null,
      "outputs": [
        {
          "output_type": "stream",
          "text": [
            "Waiting for operation to complete...\n",
            "Batch Prediction results saved to Cloud Storage bucket. \n"
          ],
          "name": "stdout"
        }
      ]
    },
    {
      "cell_type": "code",
      "metadata": {
        "id": "0dITWWNmRtwi"
      },
      "source": [
        ""
      ],
      "execution_count": null,
      "outputs": []
    }
  ]
}