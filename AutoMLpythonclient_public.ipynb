{
 "cells": [
  {
   "cell_type": "code",
   "execution_count": null,
   "metadata": {
    "id": "4q0jQ2-Tqzhc"
   },
   "outputs": [],
   "source": [
    "#pip install google-cloud-automl"
   ]
  },
  {
   "cell_type": "code",
   "execution_count": 19,
   "metadata": {
    "id": "q4upOFaBqJQs"
   },
   "outputs": [],
   "source": [
    "from google.cloud import automl"
   ]
  },
  {
   "cell_type": "code",
   "execution_count": 20,
   "metadata": {
    "colab": {
     "base_uri": "https://localhost:8080/",
     "height": 34
    },
    "id": "mn63szzAtdfu",
    "outputId": "030a7328-b64c-4213-b07a-24f3871c1ed5"
   },
   "outputs": [
    {
     "name": "stdout",
     "output_type": "stream",
     "text": [
      "Mounted at /content/gdrive\n"
     ]
    }
   ],
   "source": [
    "from google.colab import drive\n",
    "drive.mount('/content/gdrive', force_remount=True)"
   ]
  },
  {
   "cell_type": "code",
   "execution_count": 21,
   "metadata": {
    "id": "PyQFhYXeAjj3"
   },
   "outputs": [],
   "source": [
    "import os\n",
    "os.environ[\"GOOGLE_APPLICATION_CREDENTIALS\"]=\"/YOURFILEPATH/googleautomlcredentials.json\" \n",
    "#need to generate automl credentials json"
   ]
  },
  {
   "cell_type": "code",
   "execution_count": null,
   "metadata": {
    "id": "0dITWWNmRtwi"
   },
   "outputs": [],
   "source": [
    "# TODO(developer): Uncomment and set the following variables\n",
    "# project_id = \"YOUR_PROJECT_ID\"\n",
    "# model_id = \"YOUR_MODEL_ID\"\n",
    "# input_uri = \"gs://YOUR_BUCKET_ID/path/to/your/input/csv_or_jsonl\"\n",
    "# output_uri = \"gs://YOUR_BUCKET_ID/path/to/save/results/\"\n",
    "\n",
    "prediction_client = automl.PredictionServiceClient()\n",
    "\n",
    "# Get the full path of the model.\n",
    "model_full_id = f\"projects/{project_id}/locations/us-central1/models/{model_id}\"\n",
    "\n",
    "gcs_source = automl.GcsSource(input_uris=[input_uri])\n",
    "\n",
    "input_config = automl.BatchPredictInputConfig(gcs_source=gcs_source)\n",
    "gcs_destination = automl.GcsDestination(output_uri_prefix=output_uri)\n",
    "output_config = automl.BatchPredictOutputConfig(\n",
    "    gcs_destination=gcs_destination\n",
    ")\n",
    "\n",
    "response = prediction_client.batch_predict(\n",
    "    name=model_full_id,\n",
    "    input_config=input_config,\n",
    "    output_config=output_config\n",
    ")\n",
    "\n",
    "print(\"Waiting for operation to complete...\")\n",
    "print(\n",
    "    f\"Batch Prediction results saved to Cloud Storage bucket. {response.result()}\"\n",
    ")"
   ]
  }
 ],
 "metadata": {
  "colab": {
   "name": "AutoML_colab.ipynb",
   "provenance": []
  },
  "kernelspec": {
   "display_name": "Python 3",
   "language": "python",
   "name": "python3"
  },
  "language_info": {
   "codemirror_mode": {
    "name": "ipython",
    "version": 3
   },
   "file_extension": ".py",
   "mimetype": "text/x-python",
   "name": "python",
   "nbconvert_exporter": "python",
   "pygments_lexer": "ipython3",
   "version": "3.8.3"
  }
 },
 "nbformat": 4,
 "nbformat_minor": 1
}
